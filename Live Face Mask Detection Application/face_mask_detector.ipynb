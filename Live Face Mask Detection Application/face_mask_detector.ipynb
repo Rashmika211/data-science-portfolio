{
 "cells": [
  {
   "cell_type": "code",
   "execution_count": 2,
   "id": "0693a71b",
   "metadata": {
    "scrolled": true
   },
   "outputs": [],
   "source": [
    "#import libraries\n",
    "import os\n",
    "import numpy as np\n",
    "import pandas as pd\n",
    "import cv2\n",
    "from glob import glob\n",
    "import tensorflow as tf\n",
    "from tensorflow.keras import layers\n",
    "from tensorflow.keras import Sequential\n",
    "from scipy.special import softmax"
   ]
  },
  {
   "cell_type": "code",
   "execution_count": 2,
   "id": "9678c8da",
   "metadata": {},
   "outputs": [],
   "source": [
    "dirs = os.listdir('data')\n",
    "imgs_path = []\n",
    "labels = []\n",
    "for i in dirs:\n",
    "    image_path = glob('./data/{}/*.png'.format(i))\n",
    "    label =['{}'.format(i)]*len(image_path)\n",
    "    # append\n",
    "    imgs_path.extend(image_path)\n",
    "    labels.extend(label)"
   ]
  },
  {
   "cell_type": "code",
   "execution_count": 3,
   "id": "6fc3ce08",
   "metadata": {},
   "outputs": [
    {
     "name": "stdout",
     "output_type": "stream",
     "text": [
      "./data/Mask\\10.png \n",
      " Mask\n"
     ]
    }
   ],
   "source": [
    "print(imgs_path[0],'\\n',labels[0])"
   ]
  },
  {
   "cell_type": "code",
   "execution_count": 4,
   "id": "62c6586c",
   "metadata": {},
   "outputs": [],
   "source": [
    "# face detection\n",
    "face_detection_model = cv2.dnn.readNetFromCaffe('./models/deploy.prototxt.txt',\n",
    "                                                './models/res10_300x300_ssd_iter_140000_fp16.caffemodel')"
   ]
  },
  {
   "cell_type": "code",
   "execution_count": 5,
   "id": "e5ce4ff8",
   "metadata": {},
   "outputs": [],
   "source": [
    "def face_detection_dnn(img):\n",
    "    # blob from image \n",
    "    image = img.copy()\n",
    "    h,w = image.shape[:2]\n",
    "    blob = cv2.dnn.blobFromImage(image,1,(300,300),(104,117,123),swapRB=True)\n",
    "   \n",
    "    face_detection_model.setInput(blob)\n",
    "    detections = face_detection_model.forward()\n",
    "    for i in range(0,detections.shape[2]):\n",
    "        confidence_score = detections[0,0,i,2] \n",
    "        if confidence_score > 0.5:\n",
    "            box = detections[0,0,i,3:7]*np.array([w,h,w,h])\n",
    "            box = box.astype(int)  \n",
    "            pt1 = (box[0],box[1])\n",
    "            pt2 = (box[2],box[3])\n",
    "            roi = image[box[1]:box[3],box[0]:box[2]]\n",
    "            return roi\n",
    "    return None      "
   ]
  },
  {
   "cell_type": "code",
   "execution_count": 6,
   "id": "2cfb7e36",
   "metadata": {
    "scrolled": true
   },
   "outputs": [],
   "source": [
    "img = cv2.imread(imgs_path[1])\n",
    "img_roi = face_detection_dnn(img)"
   ]
  },
  {
   "cell_type": "code",
   "execution_count": 7,
   "id": "3347b4b6",
   "metadata": {},
   "outputs": [],
   "source": [
    "cv2.imshow('roi',img_roi)\n",
    "cv2.imshow('original',img)\n",
    "cv2.waitKey()\n",
    "cv2.destroyAllWindows()"
   ]
  },
  {
   "cell_type": "code",
   "execution_count": 8,
   "id": "20ace629",
   "metadata": {},
   "outputs": [],
   "source": [
    "def data_preprocess(img):\n",
    "    # blob from image \n",
    "    face = face_detection_dnn(img)\n",
    "    if face is not None:\n",
    "\n",
    "        # computing blob from image\n",
    "        blob = cv2.dnn.blobFromImage(face,1,(100,100),(104,117,123),swapRB=True)\n",
    "        blob_squeeze = np.squeeze(blob).T\n",
    "        blob_rotate = cv2.rotate(blob_squeeze,cv2.ROTATE_90_CLOCKWISE)\n",
    "        blob_flip = cv2.flip(blob_rotate,1)\n",
    "        # remove negative values and normalize\n",
    "        img_normd = np.maximum(blob_flip,0)/blob_flip.max()\n",
    "    \n",
    "        return img_normd\n",
    "    else:\n",
    "        return None"
   ]
  },
  {
   "cell_type": "code",
   "execution_count": 9,
   "id": "23042842",
   "metadata": {},
   "outputs": [
    {
     "name": "stderr",
     "output_type": "stream",
     "text": [
      "preprocessing: 11792it [10:55, 17.99it/s]\n"
     ]
    }
   ],
   "source": [
    "from tqdm import tqdm\n",
    "import gc\n",
    "\n",
    "data_img = []\n",
    "label_img = []\n",
    "i = 0\n",
    "for path, label in tqdm(zip(imgs_path,labels),desc='preprocessing'):\n",
    "    img = cv2.imread(path)\n",
    "    process_img = data_preprocess(img)\n",
    "    if process_img is not None:\n",
    "        data_img.append(process_img)\n",
    "        label_img.append(label)\n",
    "          \n",
    "    i += 1\n",
    "    if i%100 == 0:\n",
    "        gc.collect()"
   ]
  },
  {
   "cell_type": "code",
   "execution_count": 10,
   "id": "632e6070",
   "metadata": {},
   "outputs": [],
   "source": [
    "X = np.array(data_img)\n",
    "y = np.array(label_img)"
   ]
  },
  {
   "cell_type": "code",
   "execution_count": 11,
   "id": "796a5325",
   "metadata": {},
   "outputs": [],
   "source": [
    "np.savez('./data/data_preprocess.npz',X,y)"
   ]
  },
  {
   "cell_type": "code",
   "execution_count": 3,
   "id": "a952f4d3",
   "metadata": {},
   "outputs": [],
   "source": [
    "# load preprocessed data\n",
    "data = np.load('./data/data_preprocess.npz')"
   ]
  },
  {
   "cell_type": "code",
   "execution_count": 4,
   "id": "fc6e9abc",
   "metadata": {},
   "outputs": [],
   "source": [
    "X = data['arr_0'] #images\n",
    "y = data['arr_1'] #labels"
   ]
  },
  {
   "cell_type": "code",
   "execution_count": 5,
   "id": "ec2db74a",
   "metadata": {},
   "outputs": [
    {
     "data": {
      "text/plain": [
       "array(['Mask', 'No Mask'], dtype='<U7')"
      ]
     },
     "execution_count": 5,
     "metadata": {},
     "output_type": "execute_result"
    }
   ],
   "source": [
    "np.unique(y)"
   ]
  },
  {
   "cell_type": "code",
   "execution_count": 6,
   "id": "8e833302",
   "metadata": {
    "scrolled": true
   },
   "outputs": [],
   "source": [
    "#feature engineering\n",
    "from sklearn.preprocessing import OneHotEncoder\n",
    "\n",
    "onehot = OneHotEncoder()\n",
    "y_onehot = onehot.fit_transform(y.reshape(-1,1))\n",
    "y_array = y_onehot.toarray()"
   ]
  },
  {
   "cell_type": "code",
   "execution_count": 7,
   "id": "2cbf0f23",
   "metadata": {},
   "outputs": [],
   "source": [
    "#Splitting the dataset\n",
    "from sklearn.model_selection import train_test_split\n",
    "x_train, x_test, y_train, y_test = train_test_split(X,y_array,test_size=0.2)"
   ]
  },
  {
   "cell_type": "code",
   "execution_count": 8,
   "id": "7b2cb8cb",
   "metadata": {},
   "outputs": [
    {
     "data": {
      "text/plain": [
       "((8773, 100, 100, 3), (2194, 100, 100, 3), (8773, 2), (2194, 2))"
      ]
     },
     "execution_count": 8,
     "metadata": {},
     "output_type": "execute_result"
    }
   ],
   "source": [
    "x_train.shape, x_test.shape, y_train.shape, y_test.shape"
   ]
  },
  {
   "cell_type": "code",
   "execution_count": 10,
   "id": "fa94ef96",
   "metadata": {},
   "outputs": [],
   "source": [
    "# convolution neural network\n",
    "\n",
    "model = Sequential([\n",
    "    layers.Conv2D(16,3,padding='same',input_shape=(100,100,3),activation='relu'),\n",
    "    layers.MaxPool2D(),\n",
    "    layers.Conv2D(32,3,padding='same',activation='relu'),\n",
    "    layers.MaxPool2D(),\n",
    "    layers.Conv2D(64,3,padding='same',activation='relu'),\n",
    "    layers.MaxPool2D(),\n",
    "    layers.Flatten(),\n",
    "    layers.Dense(192,activation='relu'),\n",
    "    layers.Dense(28,activation='relu'),\n",
    "    layers.Dense(2,activation='sigmoid')\n",
    "])\n",
    "\n",
    "\n",
    "# compiling CNN\n",
    "model.compile(optimizer=tf.keras.optimizers.Adam(learning_rate=0.001),\n",
    "              loss=tf.keras.losses.categorical_crossentropy,metrics=['accuracy'])"
   ]
  },
  {
   "cell_type": "code",
   "execution_count": 11,
   "id": "4bd69c76",
   "metadata": {},
   "outputs": [
    {
     "name": "stdout",
     "output_type": "stream",
     "text": [
      "Epoch 1/20\n",
      "274/275 [============================>.] - ETA: 0s - loss: 0.1138 - accuracy: 0.9557INFO:tensorflow:Assets written to: .\\assets\n"
     ]
    },
    {
     "name": "stderr",
     "output_type": "stream",
     "text": [
      "INFO:tensorflow:Assets written to: .\\assets\n"
     ]
    },
    {
     "name": "stdout",
     "output_type": "stream",
     "text": [
      "275/275 [==============================] - 153s 534ms/step - loss: 0.1137 - accuracy: 0.9558 - val_loss: 0.1206 - val_accuracy: 0.9549\n",
      "Epoch 2/20\n",
      "274/275 [============================>.] - ETA: 0s - loss: 0.0537 - accuracy: 0.9807INFO:tensorflow:Assets written to: .\\assets\n"
     ]
    },
    {
     "name": "stderr",
     "output_type": "stream",
     "text": [
      "INFO:tensorflow:Assets written to: .\\assets\n"
     ]
    },
    {
     "name": "stdout",
     "output_type": "stream",
     "text": [
      "275/275 [==============================] - 73s 267ms/step - loss: 0.0537 - accuracy: 0.9807 - val_loss: 0.0425 - val_accuracy: 0.9854\n",
      "Epoch 3/20\n",
      "275/275 [==============================] - 58s 210ms/step - loss: 0.0338 - accuracy: 0.9886 - val_loss: 0.1182 - val_accuracy: 0.9631\n",
      "Epoch 4/20\n",
      "275/275 [==============================] - 64s 234ms/step - loss: 0.0288 - accuracy: 0.9891 - val_loss: 0.0465 - val_accuracy: 0.9850\n",
      "Epoch 5/20\n",
      "275/275 [==============================] - 61s 221ms/step - loss: 0.0209 - accuracy: 0.9926 - val_loss: 0.0438 - val_accuracy: 0.9845\n",
      "Epoch 6/20\n",
      "275/275 [==============================] - ETA: 0s - loss: 0.0113 - accuracy: 0.9956INFO:tensorflow:Assets written to: .\\assets\n"
     ]
    },
    {
     "name": "stderr",
     "output_type": "stream",
     "text": [
      "INFO:tensorflow:Assets written to: .\\assets\n"
     ]
    },
    {
     "name": "stdout",
     "output_type": "stream",
     "text": [
      "275/275 [==============================] - 60s 218ms/step - loss: 0.0113 - accuracy: 0.9956 - val_loss: 0.0382 - val_accuracy: 0.9877\n",
      "Epoch 7/20\n",
      "275/275 [==============================] - ETA: 0s - loss: 0.0114 - accuracy: 0.9966INFO:tensorflow:Assets written to: .\\assets\n"
     ]
    },
    {
     "name": "stderr",
     "output_type": "stream",
     "text": [
      "INFO:tensorflow:Assets written to: .\\assets\n"
     ]
    },
    {
     "name": "stdout",
     "output_type": "stream",
     "text": [
      "275/275 [==============================] - 67s 245ms/step - loss: 0.0114 - accuracy: 0.9966 - val_loss: 0.0353 - val_accuracy: 0.9886\n",
      "Epoch 8/20\n",
      "275/275 [==============================] - ETA: 0s - loss: 0.0089 - accuracy: 0.9965INFO:tensorflow:Assets written to: .\\assets\n"
     ]
    },
    {
     "name": "stderr",
     "output_type": "stream",
     "text": [
      "INFO:tensorflow:Assets written to: .\\assets\n"
     ]
    },
    {
     "name": "stdout",
     "output_type": "stream",
     "text": [
      "275/275 [==============================] - 71s 259ms/step - loss: 0.0089 - accuracy: 0.9965 - val_loss: 0.0244 - val_accuracy: 0.9918\n",
      "Epoch 9/20\n",
      "275/275 [==============================] - 62s 227ms/step - loss: 0.0101 - accuracy: 0.9964 - val_loss: 0.0318 - val_accuracy: 0.9900\n",
      "Epoch 10/20\n",
      "275/275 [==============================] - 62s 225ms/step - loss: 0.0123 - accuracy: 0.9964 - val_loss: 0.0350 - val_accuracy: 0.9881\n",
      "Epoch 11/20\n",
      "275/275 [==============================] - 62s 226ms/step - loss: 0.0042 - accuracy: 0.9991 - val_loss: 0.0335 - val_accuracy: 0.9891\n",
      "Epoch 12/20\n",
      "275/275 [==============================] - 62s 227ms/step - loss: 0.0060 - accuracy: 0.9981 - val_loss: 0.0423 - val_accuracy: 0.9868\n",
      "Epoch 13/20\n",
      "275/275 [==============================] - 62s 227ms/step - loss: 0.0058 - accuracy: 0.9983 - val_loss: 0.0442 - val_accuracy: 0.9895\n",
      "Epoch 14/20\n",
      "275/275 [==============================] - 65s 237ms/step - loss: 0.0114 - accuracy: 0.9970 - val_loss: 0.0748 - val_accuracy: 0.9804\n",
      "Epoch 15/20\n",
      "275/275 [==============================] - 63s 230ms/step - loss: 0.0105 - accuracy: 0.9967 - val_loss: 0.1084 - val_accuracy: 0.9799\n",
      "Epoch 16/20\n",
      "275/275 [==============================] - 64s 232ms/step - loss: 0.0104 - accuracy: 0.9972 - val_loss: 0.0522 - val_accuracy: 0.9859\n",
      "Epoch 17/20\n",
      "275/275 [==============================] - 63s 231ms/step - loss: 0.0088 - accuracy: 0.9976 - val_loss: 0.0358 - val_accuracy: 0.9913\n",
      "Epoch 18/20\n",
      "275/275 [==============================] - 63s 230ms/step - loss: 0.0049 - accuracy: 0.9984 - val_loss: 0.0466 - val_accuracy: 0.9881\n",
      "Epoch 19/20\n",
      "275/275 [==============================] - 64s 233ms/step - loss: 2.7234e-04 - accuracy: 1.0000 - val_loss: 0.0425 - val_accuracy: 0.9886\n",
      "Epoch 20/20\n",
      "275/275 [==============================] - 64s 233ms/step - loss: 0.0010 - accuracy: 0.9998 - val_loss: 0.1114 - val_accuracy: 0.9795\n"
     ]
    }
   ],
   "source": [
    "import absl.logging\n",
    "absl.logging.set_verbosity(absl.logging.ERROR)\n",
    "\n",
    "# Training CNN\n",
    "history = model.fit(x=x_train,\n",
    "                    y=y_train,\n",
    "                    validation_data=(x_test,y_test),\n",
    "                    epochs=20,\n",
    "                    verbose =1)"
   ]
  },
  {
   "cell_type": "code",
   "execution_count": 13,
   "id": "0047e999",
   "metadata": {},
   "outputs": [],
   "source": [
    "# Save the Model\n",
    "model.save('face_cnn_model')"
   ]
  },
  {
   "cell_type": "code",
   "execution_count": 23,
   "id": "9fc46a1e",
   "metadata": {},
   "outputs": [
    {
     "data": {
      "image/png": "[encoded data removed]",
      "text/plain": [
       "<Figure size 432x288 with 1 Axes>"
      ]
     },
     "metadata": {
      "needs_background": "light"
     },
     "output_type": "display_data"
    },
    {
     "data": {
      "image/png": "[encoded data removed]",
      "text/plain": [
       "<Figure size 432x288 with 1 Axes>"
      ]
     },
     "metadata": {
      "needs_background": "light"
     },
     "output_type": "display_data"
    }
   ],
   "source": [
    "import pandas as pd\n",
    "import matplotlib.pyplot as plt\n",
    "\n",
    "history_df = pd.DataFrame(history.history)\n",
    "\n",
    "history_df\n",
    "\n",
    "history_df[['loss','val_loss']].plot(kind='line')\n",
    "plt.xlabel('Epochs')\n",
    "plt.ylabel('Loss')\n",
    "plt.xticks(list(range(10)),list(range(1,11)))\n",
    "plt.show()\n",
    "\n",
    "history_df[['accuracy','val_accuracy']].plot(kind='line')\n",
    "plt.xlabel('Epochs')\n",
    "plt.ylabel('Accuracy')\n",
    "plt.xticks(list(range(10)),list(range(1,11)))\n",
    "plt.show()"
   ]
  },
  {
   "cell_type": "code",
   "execution_count": 24,
   "id": "1c6224c5",
   "metadata": {},
   "outputs": [],
   "source": [
    "# face detection model\n",
    "face_detection_model = cv2.dnn.readNetFromCaffe('./models/deploy.prototxt.txt',\n",
    "                                                './models/res10_300x300_ssd_iter_140000_fp16.caffemodel')\n",
    "# face mask recognition model\n",
    "model = tf.keras.models.load_model('face_cnn_model/')"
   ]
  },
  {
   "cell_type": "code",
   "execution_count": 25,
   "id": "e7d4407a",
   "metadata": {},
   "outputs": [],
   "source": [
    "# label \n",
    "labels = ['Mask', 'No Mask']\n",
    "\n",
    "\n",
    "def getColor(label):\n",
    "    if label == \"Mask\":\n",
    "        color = (0,255,0)\n",
    "\n",
    "    elif label == 'No Mask':\n",
    "        color = (0,0,255)\n",
    "        \n",
    "    return color"
   ]
  },
  {
   "cell_type": "code",
   "execution_count": 29,
   "id": "6809fe70",
   "metadata": {},
   "outputs": [],
   "source": [
    "def face_mask_prediction(img):\n",
    "    # step - 1 : face detection\n",
    "    image = img.copy()\n",
    "    h, w = image.shape[:2]\n",
    "    blob = cv2.dnn.blobFromImage(image,1,(300,300),(104,117,123),swapRB=True)\n",
    "    # \n",
    "    face_detection_model.setInput(blob)\n",
    "    detection = face_detection_model.forward() # it will give the detection\n",
    "    for i in range(0,detection.shape[2]):\n",
    "        confidence = detection[0,0,i,2]\n",
    "        if confidence > 0.5:\n",
    "            box = detection[0,0,i,3:7]*np.array([w,h,w,h])\n",
    "            box = box.astype(int)\n",
    "            pt1 = (box[0], box[1])\n",
    "            pt2 = (box[2], box[3])\n",
    "            # cv2.rectangle(image,pt1,pt2,(0,255,0),1)\n",
    "\n",
    "            # step -2: Data preprocessing\n",
    "            face = image[box[1]:box[3],box[0]:box[2]]\n",
    "            face_blob = cv2.dnn.blobFromImage(face,1,(100,100),(104,117,123),swapRB=True)\n",
    "            face_blob_squeeze = np.squeeze(face_blob).T\n",
    "            face_blob_rotate = cv2.rotate(face_blob_squeeze,cv2.ROTATE_90_CLOCKWISE)\n",
    "            face_blob_flip = cv2.flip(face_blob_rotate,1)\n",
    "            # normalization\n",
    "            img_norm = np.maximum(face_blob_flip,0)/face_blob_flip.max()\n",
    "            # step-3: Deep Learning (CNN)\n",
    "            img_input = img_norm.reshape(1,100,100,3)\n",
    "            result = model.predict(img_input)\n",
    "            result = softmax(result)[0]\n",
    "            confidence_index = result.argmax()\n",
    "            confidence_score = result[confidence_index]\n",
    "            label = labels[confidence_index]\n",
    "            label_text = '{}: {:,.0f} %'.format(label,confidence_score*100)\n",
    "            #print(label_text)\n",
    "            # color\n",
    "            color = getColor(label)\n",
    "            cv2.rectangle(image,pt1,pt2,color,3)\n",
    "            cv2.putText(image,label_text,pt1,cv2.FONT_HERSHEY_PLAIN,2,color,2)\n",
    "            \n",
    "    return image"
   ]
  },
  {
   "cell_type": "code",
   "execution_count": null,
   "id": "0d4f3c1a",
   "metadata": {},
   "outputs": [],
   "source": [
    "#Live Face Mask Detection\n",
    "cap = cv2.VideoCapture(0)\n",
    "\n",
    "while True:\n",
    "    ret, frames = cap.read()\n",
    "    if ret == False:\n",
    "        break\n",
    "        \n",
    "    image = face_mask_prediction(frames)\n",
    "    cv2.imshow('Face Mask Prediction',image)\n",
    "    if cv2.waitKey(1) == 27:\n",
    "        break\n",
    "        \n",
    "cap.release()\n",
    "cv2.destroyAllWindows()"
   ]
  }
 ],
 "metadata": {
  "kernelspec": {
   "display_name": "Python 3 (ipykernel)",
   "language": "python",
   "name": "python3"
  },
  "language_info": {
   "codemirror_mode": {
    "name": "ipython",
    "version": 3
   },
   "file_extension": ".py",
   "mimetype": "text/x-python",
   "name": "python",
   "nbconvert_exporter": "python",
   "pygments_lexer": "ipython3",
   "version": "3.9.12"
  }
 },
 "nbformat": 4,
 "nbformat_minor": 5
}
